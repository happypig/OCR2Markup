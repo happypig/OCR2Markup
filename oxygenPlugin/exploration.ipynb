{
 "cells": [
  {
   "cell_type": "code",
   "execution_count": 1,
   "id": "a3161dc5",
   "metadata": {},
   "outputs": [
    {
     "name": "stdout",
     "output_type": "stream",
     "text": [
      "Error: HTTPConnectionPool(host='172.27.2.129', port=11434): Read timed out. (read timeout=10)\n"
     ]
    }
   ],
   "source": [
    "import requests\n",
    "\n",
    "OLLAMA_URL = \"http://172.27.2.129:11434/api/generate\"\n",
    "\n",
    "def check_ollama(prompt, model=\"Gemma3:27b\"):\n",
    "    payload = {\n",
    "        \"model\": model,\n",
    "        \"prompt\": prompt,\n",
    "        \"stream\": False\n",
    "    }\n",
    "    try:\n",
    "        response = requests.post(OLLAMA_URL, json=payload, timeout=10)\n",
    "        response.raise_for_status()\n",
    "        data = response.json()\n",
    "        return data.get(\"response\", \"No response field in result.\")\n",
    "    except Exception as e:\n",
    "        return f\"Error: {e}\"\n",
    "\n",
    "# Example usage:\n",
    "result = check_ollama(\"Hello, Ollama!\")\n",
    "print(result)"
   ]
  },
  {
   "cell_type": "code",
   "execution_count": 2,
   "id": "d2df7bd6",
   "metadata": {},
   "outputs": [
    {
     "name": "stdout",
     "output_type": "stream",
     "text": [
      "Service verification failed: 404 Client Error: Not Found for url: http://172.27.2.129:11434/api/generate\n"
     ]
    }
   ],
   "source": [
    "import requests\n",
    "\n",
    "OLLAMA_URL = \"http://172.27.2.129:11434/api/generate\"\n",
    "\n",
    "def verify_service():\n",
    "    test_payload = {\n",
    "        \"model\": \"llama2\",  # Replace with the desired model name\n",
    "        \"prompt\": \"Test prompt\",\n",
    "        \"stream\": False\n",
    "    }\n",
    "    try:\n",
    "        response = requests.post(OLLAMA_URL, json=test_payload, timeout=10)\n",
    "        response.raise_for_status()\n",
    "        data = response.json()\n",
    "        print(\"Service is reachable. Response:\")\n",
    "        print(data)\n",
    "    except requests.exceptions.RequestException as e:\n",
    "        print(f\"Service verification failed: {e}\")\n",
    "\n",
    "# Run the verification\n",
    "verify_service()"
   ]
  },
  {
   "cell_type": "code",
   "execution_count": 3,
   "id": "66064ff6",
   "metadata": {},
   "outputs": [
    {
     "name": "stdout",
     "output_type": "stream",
     "text": [
      "Available tags/models:\n",
      "{'models': [{'name': 'gemma3:27b-it-qat', 'model': 'gemma3:27b-it-qat', 'modified_at': '2025-06-24T14:09:52.316909177+08:00', 'size': 18087370898, 'digest': '29eb0b9aeda35295ed728124d341b27e0c6771ea5c586fcabfb157884224fa93', 'details': {'parent_model': '', 'format': 'gguf', 'family': 'gemma3', 'families': ['gemma3'], 'parameter_size': '27.4B', 'quantization_level': 'Q4_0'}}, {'name': 'gemma3:27b', 'model': 'gemma3:27b', 'modified_at': '2025-05-26T18:06:34.774878686+08:00', 'size': 17396936941, 'digest': 'a418f5838eaf7fe2cfe0a3046c8384b68ba43a4435542c942f9db00a5f342203', 'details': {'parent_model': '', 'format': 'gguf', 'family': 'gemma3', 'families': ['gemma3'], 'parameter_size': '27.4B', 'quantization_level': 'Q4_K_M'}}]}\n"
     ]
    }
   ],
   "source": [
    "import requests\n",
    "\n",
    "OLLAMA_TAGS_URL = \"http://172.27.2.129:11434/api/tags\"\n",
    "\n",
    "def check_tags():\n",
    "    try:\n",
    "        response = requests.get(OLLAMA_TAGS_URL, timeout=10)\n",
    "        response.raise_for_status()\n",
    "        data = response.json()\n",
    "        print(\"Available tags/models:\")\n",
    "        print(data)\n",
    "    except requests.exceptions.RequestException as e:\n",
    "        print(f\"Failed to retrieve tags: {e}\")\n",
    "\n",
    "# Example usage:\n",
    "check_tags()"
   ]
  }
 ],
 "metadata": {
  "kernelspec": {
   "display_name": ".venv",
   "language": "python",
   "name": "python3"
  },
  "language_info": {
   "codemirror_mode": {
    "name": "ipython",
    "version": 3
   },
   "file_extension": ".py",
   "mimetype": "text/x-python",
   "name": "python",
   "nbconvert_exporter": "python",
   "pygments_lexer": "ipython3",
   "version": "3.12.5"
  }
 },
 "nbformat": 4,
 "nbformat_minor": 5
}
