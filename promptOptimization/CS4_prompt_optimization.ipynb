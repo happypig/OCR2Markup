{
 "cells": [
  {
   "cell_type": "markdown",
   "id": "d9322d77",
   "metadata": {},
   "source": [
    "Your task is to build a prompt optimization automation process. \n",
    "\n",
    "* the prompt to be finetuned is about to markup semantical part of the citation string with xml tags.(`ref_markup_optV2.json`)\n",
    "* the prompt is to be used at the endpoint which is implemented by flask RESTful API above Ollama service with Gemma3:1b and Gemma3:4b.(endpoints from output of `localLlmWIntelGPU.ipynb`, and the implementation of the API is in cell of `localLlmWIntelGPU.ipynb`)\n",
    "* please use Gemini 2.5 pro through API as the prompt optimization agent to finetune the prompt\n",
    "    * \n",
    "* also use Gemma3:1b and Gemma3:4b from local Ollama service for verification?"
   ]
  },
  {
   "cell_type": "code",
   "execution_count": null,
   "id": "5a0be891",
   "metadata": {},
   "outputs": [],
   "source": []
  }
 ],
 "metadata": {
  "kernelspec": {
   "display_name": ".venv",
   "language": "python",
   "name": "python3"
  },
  "language_info": {
   "name": "python",
   "version": "3.12.5"
  }
 },
 "nbformat": 4,
 "nbformat_minor": 5
}
